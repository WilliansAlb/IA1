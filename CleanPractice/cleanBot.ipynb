{
 "cells": [
  {
   "cell_type": "code",
   "execution_count": 19,
   "metadata": {},
   "outputs": [],
   "source": [
    "import threading\n",
    "import time"
   ]
  },
  {
   "cell_type": "code",
   "execution_count": 20,
   "metadata": {},
   "outputs": [],
   "source": [
    "class Square:\n",
    "    def __init__(self, name):\n",
    "        self.name = name\n",
    "        self.isCleaned = True\n",
    "\n",
    "    def setClean(self, isCleaned):\n",
    "        self.isCleaned = isCleaned;"
   ]
  },
  {
   "cell_type": "code",
   "execution_count": 21,
   "metadata": {},
   "outputs": [],
   "source": [
    "class Vacuum:\n",
    "\tdef __init__(self, locationSquare, isStupid):\n",
    "\t\tself.locationSquare = locationSquare\n",
    "\t\tself.isStupid = isStupid\n",
    "\n",
    "\tdef verifiedStupid(self, squareA, squareB):\n",
    "\t\tif not self.locationSquare.isCleaned:\n",
    "\t\t\tself.cleanedSquare(self.locationSquare)\n",
    "\t\tself.locationSquare = squareB if squareA == self.locationSquare else squareA\n",
    "\t\tprint(\"moving to \"+self.locationSquare.name)\n",
    "\t\n",
    "\tdef verifiedIntelligence(self, squareA, squareB):\n",
    "\t\tif not self.locationSquare.isCleaned:\n",
    "\t\t\tself.cleanedSquare(self.locationSquare)\n",
    "\t\tif not squareA.isCleaned or not squareB.isCleaned:\n",
    "\t\t\tself.locationSquare = squareA if not squareA.isCleaned else squareB\n",
    "\t\t\tprint(\"moving to \"+self.locationSquare.name)\n",
    "\n",
    "\tdef cleanedSquare(self, squareToClean):\n",
    "\t\tprint('cleaning '+squareToClean.name)\n",
    "\t\tsquareToClean.isCleaned = True"
   ]
  },
  {
   "cell_type": "code",
   "execution_count": 22,
   "metadata": {},
   "outputs": [],
   "source": [
    "class UserThread(threading.Thread):\n",
    "    def __init__(self,squareA,squareB):\n",
    "        threading.Thread.__init__(self)\n",
    "        self.key = None\n",
    "        self.squareA = squareA\n",
    "        self.squareB = squareB\n",
    "\n",
    "    def run(self):\n",
    "        while True:\n",
    "            self.key = input(\"Enter a key (A or B): \").upper()\n",
    "            if self.key == 'Q':\n",
    "                break\n",
    "            elif self.key == 'A':\n",
    "                self.squareA.setClean(False)\n",
    "                print('dirtying A')\n",
    "            else:\n",
    "                self.squareB.setClean(False)\n",
    "                print('dirtying B')"
   ]
  },
  {
   "cell_type": "code",
   "execution_count": 23,
   "metadata": {},
   "outputs": [],
   "source": [
    "class VacuumThread(threading.Thread):\n",
    "    def __init__(self, userThread, squareA, squareB, vacuum):\n",
    "        threading.Thread.__init__(self)\n",
    "        self.squareA = squareA\n",
    "        self.squareB = squareB\n",
    "        self.vacuum = vacuum\n",
    "        self.userThread = userThread;\n",
    "\n",
    "    def run(self):\n",
    "        while True:\n",
    "            if self.userThread.key == 'Q':\n",
    "                break\n",
    "            if self.vacuum.isStupid:\n",
    "                self.vacuum.verifiedStupid(self.squareA, self.squareB)\n",
    "            else:\n",
    "                self.vacuum.verifiedIntelligence(self.squareA, self.squareB)\n",
    "            time.sleep(1)"
   ]
  },
  {
   "cell_type": "code",
   "execution_count": 24,
   "metadata": {},
   "outputs": [
    {
     "name": "stdout",
     "output_type": "stream",
     "text": [
      "dirtying A\n",
      "cleaning A\n",
      "dirtying B\n",
      "moving to B\n",
      "cleaning B\n",
      "dirtying A\n",
      "moving to A\n",
      "cleaning A\n",
      "dirtying B\n",
      "moving to B\n",
      "cleaning B\n"
     ]
    }
   ],
   "source": [
    "squareA = Square('A')\n",
    "squareB = Square('B')\n",
    "user_thread = UserThread(squareA, squareB)\n",
    "vacuum = Vacuum(squareA,False)\n",
    "vacuum_thread = VacuumThread(user_thread, squareA, squareB, vacuum)\n",
    "user_thread.start()\n",
    "vacuum_thread.start()\n",
    "user_thread.join()\n",
    "vacuum_thread.join();"
   ]
  }
 ],
 "metadata": {
  "kernelspec": {
   "display_name": "Python 3",
   "language": "python",
   "name": "python3"
  },
  "language_info": {
   "codemirror_mode": {
    "name": "ipython",
    "version": 3
   },
   "file_extension": ".py",
   "mimetype": "text/x-python",
   "name": "python",
   "nbconvert_exporter": "python",
   "pygments_lexer": "ipython3",
   "version": "3.12.1"
  }
 },
 "nbformat": 4,
 "nbformat_minor": 2
}
